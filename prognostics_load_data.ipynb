{
 "cells": [
  {
   "cell_type": "markdown",
   "metadata": {},
   "source": [
    "# "
   ]
  },
  {
   "cell_type": "markdown",
   "metadata": {},
   "source": [
    "### Importing required libraries : "
   ]
  },
  {
   "cell_type": "code",
   "execution_count": 1,
   "metadata": {},
   "outputs": [],
   "source": [
    "import math\n",
    "import time\n",
    "\n",
    "import numpy as np\n",
    "import pandas as pd\n",
    "import sklearn\n",
    "from sklearn import metrics\n",
    "from sklearn.preprocessing import MinMaxScaler\n",
    "from sklearn.metrics import mean_absolute_error\n",
    "from sklearn.metrics import mean_squared_error\n",
    "from sklearn.metrics import r2_score\n",
    "from sklearn.ensemble import RandomForestRegressor\n",
    "from sklearn.linear_model import LinearRegression\n",
    "from sklearn.model_selection import train_test_split, cross_val_score\n",
    "\n",
    "import tensorflow as tf\n",
    "import tensorflow.keras as keras\n",
    "import tensorflow.keras.backend as K\n",
    "from tensorflow.keras.layers import Activation, Dense, Dropout, LSTM\n",
    "from tensorflow.keras.models import Sequential, load_model\n",
    "\n",
    "import seaborn as sns\n",
    "import matplotlib.pyplot as plt\n",
    "from pylab import rcParams\n",
    "from tqdm import tqdm\n",
    "import xgboost"
   ]
  },
  {
   "cell_type": "code",
   "execution_count": 2,
   "metadata": {},
   "outputs": [],
   "source": [
    "#setting a seed\n",
    "np.random.seed(42)"
   ]
  },
  {
   "cell_type": "code",
   "execution_count": 3,
   "metadata": {
    "tags": []
   },
   "outputs": [
    {
     "output_type": "execute_result",
     "data": {
      "text/plain": "'/home/yash/projects/prognostics_thesis'"
     },
     "metadata": {},
     "execution_count": 3
    }
   ],
   "source": [
    "pwd"
   ]
  },
  {
   "cell_type": "code",
   "execution_count": 4,
   "metadata": {
    "tags": []
   },
   "outputs": [
    {
     "output_type": "stream",
     "name": "stdout",
     "text": "total 44324\n-rw-r--r-- 1 yash   434158 Oct  3  2008 'Damage Propagation Modeling.pdf'\n-rw-r--r-- 1 yash     2442 Oct  3  2008  readme.txt\n-rw-r--r-- 1 yash      429 Oct  2  2008  RUL_FD001.txt\n-rw-r--r-- 1 yash     1110 Oct  2  2008  RUL_FD002.txt\n-rw-r--r-- 1 yash      428 Oct  2  2008  RUL_FD003.txt\n-rw-r--r-- 1 yash     1084 Oct  2  2008  RUL_FD004.txt\n-rw-r--r-- 1 yash  2228855 Mar 25  2008  test_FD001.txt\n-rw-r--r-- 1 yash  5734587 Sep 17  2008  test_FD002.txt\n-rw-r--r-- 1 yash  2826651 Mar 25  2008  test_FD003.txt\n-rw-r--r-- 1 yash  6957759 Sep 17  2008  test_FD004.txt\n-rw-r--r-- 1 yash  3515356 Mar 25  2008  train_FD001.txt\n-rw-r--r-- 1 yash  9082480 Sep 17  2008  train_FD002.txt\n-rw-r--r-- 1 yash  4213862 Mar 25  2008  train_FD003.txt\n-rw-r--r-- 1 yash 10350705 Sep 17  2008  train_FD004.txt\n"
    }
   ],
   "source": [
    "ls -g CMAPSSData/"
   ]
  },
  {
   "cell_type": "code",
   "execution_count": 5,
   "metadata": {},
   "outputs": [],
   "source": [
    "#Loading Dataset files into the notebook: \n",
    "\n",
    "train_FD001 = pd.read_csv('./CMAPSSData/train_FD001.txt', sep = \" \", header = None)\n",
    "train_FD002 = pd.read_csv('./CMAPSSData/train_FD002.txt', sep = \" \", header = None)\n",
    "train_FD003 = pd.read_csv('./CMAPSSData/train_FD003.txt', sep = \" \", header = None)\n",
    "train_FD004 = pd.read_csv('./CMAPSSData/train_FD004.txt', sep = \" \", header = None)\n",
    "\n",
    "test_FD001 = pd.read_csv('./CMAPSSData/test_FD001.txt', sep = \" \", header = None)\n",
    "test_FD002 = pd.read_csv('./CMAPSSData/test_FD002.txt', sep = \" \", header = None)\n",
    "test_FD003 = pd.read_csv('./CMAPSSData/test_FD003.txt', sep = \" \", header = None)\n",
    "test_FD004 = pd.read_csv('./CMAPSSData/test_FD004.txt', sep = \" \", header = None)"
   ]
  },
  {
   "cell_type": "code",
   "execution_count": 6,
   "metadata": {},
   "outputs": [
    {
     "output_type": "execute_result",
     "data": {
      "text/plain": "                 0             1             2             3        4   \\\ncount  20631.000000  20631.000000  20631.000000  20631.000000  20631.0   \nmean      51.506568    108.807862     -0.000009      0.000002    100.0   \nstd       29.227633     68.880990      0.002187      0.000293      0.0   \nmin        1.000000      1.000000     -0.008700     -0.000600    100.0   \n25%       26.000000     52.000000     -0.001500     -0.000200    100.0   \n50%       52.000000    104.000000      0.000000      0.000000    100.0   \n75%       77.000000    156.000000      0.001500      0.000300    100.0   \nmax      100.000000    362.000000      0.008700      0.000600    100.0   \n\n             5             6             7             8             9   ...  \\\ncount  20631.00  20631.000000  20631.000000  20631.000000  2.063100e+04  ...   \nmean     518.67    642.680934   1590.523119   1408.933782  1.462000e+01  ...   \nstd        0.00      0.500053      6.131150      9.000605  1.776400e-15  ...   \nmin      518.67    641.210000   1571.040000   1382.250000  1.462000e+01  ...   \n25%      518.67    642.325000   1586.260000   1402.360000  1.462000e+01  ...   \n50%      518.67    642.640000   1590.100000   1408.040000  1.462000e+01  ...   \n75%      518.67    643.000000   1594.380000   1414.555000  1.462000e+01  ...   \nmax      518.67    644.530000   1616.910000   1441.490000  1.462000e+01  ...   \n\n                 18            19            20            21       22  \\\ncount  20631.000000  20631.000000  2.063100e+04  20631.000000  20631.0   \nmean    8143.752722      8.442146  3.000000e-02    393.210654   2388.0   \nstd       19.076176      0.037505  1.387812e-17      1.548763      0.0   \nmin     8099.940000      8.324900  3.000000e-02    388.000000   2388.0   \n25%     8133.245000      8.414900  3.000000e-02    392.000000   2388.0   \n50%     8140.540000      8.438900  3.000000e-02    393.000000   2388.0   \n75%     8148.310000      8.465600  3.000000e-02    394.000000   2388.0   \nmax     8293.720000      8.584800  3.000000e-02    400.000000   2388.0   \n\n            23            24            25   26   27  \ncount  20631.0  20631.000000  20631.000000  0.0  0.0  \nmean     100.0     38.816271     23.289705  NaN  NaN  \nstd        0.0      0.180746      0.108251  NaN  NaN  \nmin      100.0     38.140000     22.894200  NaN  NaN  \n25%      100.0     38.700000     23.221800  NaN  NaN  \n50%      100.0     38.830000     23.297900  NaN  NaN  \n75%      100.0     38.950000     23.366800  NaN  NaN  \nmax      100.0     39.430000     23.618400  NaN  NaN  \n\n[8 rows x 28 columns]",
      "text/html": "<div>\n<style scoped>\n    .dataframe tbody tr th:only-of-type {\n        vertical-align: middle;\n    }\n\n    .dataframe tbody tr th {\n        vertical-align: top;\n    }\n\n    .dataframe thead th {\n        text-align: right;\n    }\n</style>\n<table border=\"1\" class=\"dataframe\">\n  <thead>\n    <tr style=\"text-align: right;\">\n      <th></th>\n      <th>0</th>\n      <th>1</th>\n      <th>2</th>\n      <th>3</th>\n      <th>4</th>\n      <th>5</th>\n      <th>6</th>\n      <th>7</th>\n      <th>8</th>\n      <th>9</th>\n      <th>...</th>\n      <th>18</th>\n      <th>19</th>\n      <th>20</th>\n      <th>21</th>\n      <th>22</th>\n      <th>23</th>\n      <th>24</th>\n      <th>25</th>\n      <th>26</th>\n      <th>27</th>\n    </tr>\n  </thead>\n  <tbody>\n    <tr>\n      <th>count</th>\n      <td>20631.000000</td>\n      <td>20631.000000</td>\n      <td>20631.000000</td>\n      <td>20631.000000</td>\n      <td>20631.0</td>\n      <td>20631.00</td>\n      <td>20631.000000</td>\n      <td>20631.000000</td>\n      <td>20631.000000</td>\n      <td>2.063100e+04</td>\n      <td>...</td>\n      <td>20631.000000</td>\n      <td>20631.000000</td>\n      <td>2.063100e+04</td>\n      <td>20631.000000</td>\n      <td>20631.0</td>\n      <td>20631.0</td>\n      <td>20631.000000</td>\n      <td>20631.000000</td>\n      <td>0.0</td>\n      <td>0.0</td>\n    </tr>\n    <tr>\n      <th>mean</th>\n      <td>51.506568</td>\n      <td>108.807862</td>\n      <td>-0.000009</td>\n      <td>0.000002</td>\n      <td>100.0</td>\n      <td>518.67</td>\n      <td>642.680934</td>\n      <td>1590.523119</td>\n      <td>1408.933782</td>\n      <td>1.462000e+01</td>\n      <td>...</td>\n      <td>8143.752722</td>\n      <td>8.442146</td>\n      <td>3.000000e-02</td>\n      <td>393.210654</td>\n      <td>2388.0</td>\n      <td>100.0</td>\n      <td>38.816271</td>\n      <td>23.289705</td>\n      <td>NaN</td>\n      <td>NaN</td>\n    </tr>\n    <tr>\n      <th>std</th>\n      <td>29.227633</td>\n      <td>68.880990</td>\n      <td>0.002187</td>\n      <td>0.000293</td>\n      <td>0.0</td>\n      <td>0.00</td>\n      <td>0.500053</td>\n      <td>6.131150</td>\n      <td>9.000605</td>\n      <td>1.776400e-15</td>\n      <td>...</td>\n      <td>19.076176</td>\n      <td>0.037505</td>\n      <td>1.387812e-17</td>\n      <td>1.548763</td>\n      <td>0.0</td>\n      <td>0.0</td>\n      <td>0.180746</td>\n      <td>0.108251</td>\n      <td>NaN</td>\n      <td>NaN</td>\n    </tr>\n    <tr>\n      <th>min</th>\n      <td>1.000000</td>\n      <td>1.000000</td>\n      <td>-0.008700</td>\n      <td>-0.000600</td>\n      <td>100.0</td>\n      <td>518.67</td>\n      <td>641.210000</td>\n      <td>1571.040000</td>\n      <td>1382.250000</td>\n      <td>1.462000e+01</td>\n      <td>...</td>\n      <td>8099.940000</td>\n      <td>8.324900</td>\n      <td>3.000000e-02</td>\n      <td>388.000000</td>\n      <td>2388.0</td>\n      <td>100.0</td>\n      <td>38.140000</td>\n      <td>22.894200</td>\n      <td>NaN</td>\n      <td>NaN</td>\n    </tr>\n    <tr>\n      <th>25%</th>\n      <td>26.000000</td>\n      <td>52.000000</td>\n      <td>-0.001500</td>\n      <td>-0.000200</td>\n      <td>100.0</td>\n      <td>518.67</td>\n      <td>642.325000</td>\n      <td>1586.260000</td>\n      <td>1402.360000</td>\n      <td>1.462000e+01</td>\n      <td>...</td>\n      <td>8133.245000</td>\n      <td>8.414900</td>\n      <td>3.000000e-02</td>\n      <td>392.000000</td>\n      <td>2388.0</td>\n      <td>100.0</td>\n      <td>38.700000</td>\n      <td>23.221800</td>\n      <td>NaN</td>\n      <td>NaN</td>\n    </tr>\n    <tr>\n      <th>50%</th>\n      <td>52.000000</td>\n      <td>104.000000</td>\n      <td>0.000000</td>\n      <td>0.000000</td>\n      <td>100.0</td>\n      <td>518.67</td>\n      <td>642.640000</td>\n      <td>1590.100000</td>\n      <td>1408.040000</td>\n      <td>1.462000e+01</td>\n      <td>...</td>\n      <td>8140.540000</td>\n      <td>8.438900</td>\n      <td>3.000000e-02</td>\n      <td>393.000000</td>\n      <td>2388.0</td>\n      <td>100.0</td>\n      <td>38.830000</td>\n      <td>23.297900</td>\n      <td>NaN</td>\n      <td>NaN</td>\n    </tr>\n    <tr>\n      <th>75%</th>\n      <td>77.000000</td>\n      <td>156.000000</td>\n      <td>0.001500</td>\n      <td>0.000300</td>\n      <td>100.0</td>\n      <td>518.67</td>\n      <td>643.000000</td>\n      <td>1594.380000</td>\n      <td>1414.555000</td>\n      <td>1.462000e+01</td>\n      <td>...</td>\n      <td>8148.310000</td>\n      <td>8.465600</td>\n      <td>3.000000e-02</td>\n      <td>394.000000</td>\n      <td>2388.0</td>\n      <td>100.0</td>\n      <td>38.950000</td>\n      <td>23.366800</td>\n      <td>NaN</td>\n      <td>NaN</td>\n    </tr>\n    <tr>\n      <th>max</th>\n      <td>100.000000</td>\n      <td>362.000000</td>\n      <td>0.008700</td>\n      <td>0.000600</td>\n      <td>100.0</td>\n      <td>518.67</td>\n      <td>644.530000</td>\n      <td>1616.910000</td>\n      <td>1441.490000</td>\n      <td>1.462000e+01</td>\n      <td>...</td>\n      <td>8293.720000</td>\n      <td>8.584800</td>\n      <td>3.000000e-02</td>\n      <td>400.000000</td>\n      <td>2388.0</td>\n      <td>100.0</td>\n      <td>39.430000</td>\n      <td>23.618400</td>\n      <td>NaN</td>\n      <td>NaN</td>\n    </tr>\n  </tbody>\n</table>\n<p>8 rows × 28 columns</p>\n</div>"
     },
     "metadata": {},
     "execution_count": 6
    }
   ],
   "source": [
    "#Description of first dataset file : \n",
    "train_FD001.describe()"
   ]
  },
  {
   "source": [
    "Since the last two columns are empty, they are removed from the dataset."
   ],
   "cell_type": "markdown",
   "metadata": {}
  },
  {
   "cell_type": "code",
   "execution_count": 7,
   "metadata": {},
   "outputs": [],
   "source": [
    "train_FD001.drop(columns = [26, 27], inplace  = True)\n",
    "train_FD002.drop(columns = [26, 27], inplace  = True)\n",
    "train_FD003.drop(columns = [26, 27], inplace  = True)\n",
    "train_FD004.drop(columns = [26, 27], inplace  = True)\n",
    "\n",
    "test_FD001.drop(columns = [26, 27], inplace  = True)\n",
    "test_FD002.drop(columns = [26, 27], inplace  = True)\n",
    "test_FD003.drop(columns = [26, 27], inplace  = True)\n",
    "test_FD004.drop(columns = [26, 27], inplace  = True)"
   ]
  },
  {
   "source": [
    "Labelling every column with the representative parameter : "
   ],
   "cell_type": "markdown",
   "metadata": {}
  },
  {
   "cell_type": "code",
   "execution_count": 8,
   "metadata": {},
   "outputs": [],
   "source": [
    "column_labels = ['unit_number', 'time_in_cycles', 'setting_1', 'setting_2', 'TRA', 'T2', 'T24', 'T30', 'T50', 'P2', 'P15', 'P30', 'Nf', 'Nc', 'epr', 'Ps30', 'phi', 'NRf', 'NRc', 'BPR', 'farB', 'htBleed', 'Nf_dmd', 'PCNfR_dmd', 'W31', 'W32']"
   ]
  },
  {
   "cell_type": "code",
   "execution_count": 9,
   "metadata": {},
   "outputs": [],
   "source": [
    "#Adding labels to all training sets :\n",
    "train_FD001.columns = column_labels\n",
    "train_FD002.columns = column_labels\n",
    "train_FD003.columns = column_labels\n",
    "train_FD004.columns = column_labels\n",
    "\n",
    "test_FD001.columns = column_labels\n",
    "test_FD002.columns = column_labels\n",
    "test_FD003.columns = column_labels\n",
    "test_FD004.columns = column_labels"
   ]
  },
  {
   "cell_type": "code",
   "execution_count": 10,
   "metadata": {},
   "outputs": [
    {
     "output_type": "execute_result",
     "data": {
      "text/plain": "        unit_number  time_in_cycles     setting_1     setting_2      TRA  \\\ncount  20631.000000    20631.000000  20631.000000  20631.000000  20631.0   \nmean      51.506568      108.807862     -0.000009      0.000002    100.0   \nstd       29.227633       68.880990      0.002187      0.000293      0.0   \nmin        1.000000        1.000000     -0.008700     -0.000600    100.0   \n25%       26.000000       52.000000     -0.001500     -0.000200    100.0   \n50%       52.000000      104.000000      0.000000      0.000000    100.0   \n75%       77.000000      156.000000      0.001500      0.000300    100.0   \nmax      100.000000      362.000000      0.008700      0.000600    100.0   \n\n             T2           T24           T30           T50            P2  ...  \\\ncount  20631.00  20631.000000  20631.000000  20631.000000  2.063100e+04  ...   \nmean     518.67    642.680934   1590.523119   1408.933782  1.462000e+01  ...   \nstd        0.00      0.500053      6.131150      9.000605  1.776400e-15  ...   \nmin      518.67    641.210000   1571.040000   1382.250000  1.462000e+01  ...   \n25%      518.67    642.325000   1586.260000   1402.360000  1.462000e+01  ...   \n50%      518.67    642.640000   1590.100000   1408.040000  1.462000e+01  ...   \n75%      518.67    643.000000   1594.380000   1414.555000  1.462000e+01  ...   \nmax      518.67    644.530000   1616.910000   1441.490000  1.462000e+01  ...   \n\n                phi           NRf           NRc           BPR          farB  \\\ncount  20631.000000  20631.000000  20631.000000  20631.000000  2.063100e+04   \nmean     521.413470   2388.096152   8143.752722      8.442146  3.000000e-02   \nstd        0.737553      0.071919     19.076176      0.037505  1.387812e-17   \nmin      518.690000   2387.880000   8099.940000      8.324900  3.000000e-02   \n25%      520.960000   2388.040000   8133.245000      8.414900  3.000000e-02   \n50%      521.480000   2388.090000   8140.540000      8.438900  3.000000e-02   \n75%      521.950000   2388.140000   8148.310000      8.465600  3.000000e-02   \nmax      523.380000   2388.560000   8293.720000      8.584800  3.000000e-02   \n\n            htBleed   Nf_dmd  PCNfR_dmd           W31           W32  \ncount  20631.000000  20631.0    20631.0  20631.000000  20631.000000  \nmean     393.210654   2388.0      100.0     38.816271     23.289705  \nstd        1.548763      0.0        0.0      0.180746      0.108251  \nmin      388.000000   2388.0      100.0     38.140000     22.894200  \n25%      392.000000   2388.0      100.0     38.700000     23.221800  \n50%      393.000000   2388.0      100.0     38.830000     23.297900  \n75%      394.000000   2388.0      100.0     38.950000     23.366800  \nmax      400.000000   2388.0      100.0     39.430000     23.618400  \n\n[8 rows x 26 columns]",
      "text/html": "<div>\n<style scoped>\n    .dataframe tbody tr th:only-of-type {\n        vertical-align: middle;\n    }\n\n    .dataframe tbody tr th {\n        vertical-align: top;\n    }\n\n    .dataframe thead th {\n        text-align: right;\n    }\n</style>\n<table border=\"1\" class=\"dataframe\">\n  <thead>\n    <tr style=\"text-align: right;\">\n      <th></th>\n      <th>unit_number</th>\n      <th>time_in_cycles</th>\n      <th>setting_1</th>\n      <th>setting_2</th>\n      <th>TRA</th>\n      <th>T2</th>\n      <th>T24</th>\n      <th>T30</th>\n      <th>T50</th>\n      <th>P2</th>\n      <th>...</th>\n      <th>phi</th>\n      <th>NRf</th>\n      <th>NRc</th>\n      <th>BPR</th>\n      <th>farB</th>\n      <th>htBleed</th>\n      <th>Nf_dmd</th>\n      <th>PCNfR_dmd</th>\n      <th>W31</th>\n      <th>W32</th>\n    </tr>\n  </thead>\n  <tbody>\n    <tr>\n      <th>count</th>\n      <td>20631.000000</td>\n      <td>20631.000000</td>\n      <td>20631.000000</td>\n      <td>20631.000000</td>\n      <td>20631.0</td>\n      <td>20631.00</td>\n      <td>20631.000000</td>\n      <td>20631.000000</td>\n      <td>20631.000000</td>\n      <td>2.063100e+04</td>\n      <td>...</td>\n      <td>20631.000000</td>\n      <td>20631.000000</td>\n      <td>20631.000000</td>\n      <td>20631.000000</td>\n      <td>2.063100e+04</td>\n      <td>20631.000000</td>\n      <td>20631.0</td>\n      <td>20631.0</td>\n      <td>20631.000000</td>\n      <td>20631.000000</td>\n    </tr>\n    <tr>\n      <th>mean</th>\n      <td>51.506568</td>\n      <td>108.807862</td>\n      <td>-0.000009</td>\n      <td>0.000002</td>\n      <td>100.0</td>\n      <td>518.67</td>\n      <td>642.680934</td>\n      <td>1590.523119</td>\n      <td>1408.933782</td>\n      <td>1.462000e+01</td>\n      <td>...</td>\n      <td>521.413470</td>\n      <td>2388.096152</td>\n      <td>8143.752722</td>\n      <td>8.442146</td>\n      <td>3.000000e-02</td>\n      <td>393.210654</td>\n      <td>2388.0</td>\n      <td>100.0</td>\n      <td>38.816271</td>\n      <td>23.289705</td>\n    </tr>\n    <tr>\n      <th>std</th>\n      <td>29.227633</td>\n      <td>68.880990</td>\n      <td>0.002187</td>\n      <td>0.000293</td>\n      <td>0.0</td>\n      <td>0.00</td>\n      <td>0.500053</td>\n      <td>6.131150</td>\n      <td>9.000605</td>\n      <td>1.776400e-15</td>\n      <td>...</td>\n      <td>0.737553</td>\n      <td>0.071919</td>\n      <td>19.076176</td>\n      <td>0.037505</td>\n      <td>1.387812e-17</td>\n      <td>1.548763</td>\n      <td>0.0</td>\n      <td>0.0</td>\n      <td>0.180746</td>\n      <td>0.108251</td>\n    </tr>\n    <tr>\n      <th>min</th>\n      <td>1.000000</td>\n      <td>1.000000</td>\n      <td>-0.008700</td>\n      <td>-0.000600</td>\n      <td>100.0</td>\n      <td>518.67</td>\n      <td>641.210000</td>\n      <td>1571.040000</td>\n      <td>1382.250000</td>\n      <td>1.462000e+01</td>\n      <td>...</td>\n      <td>518.690000</td>\n      <td>2387.880000</td>\n      <td>8099.940000</td>\n      <td>8.324900</td>\n      <td>3.000000e-02</td>\n      <td>388.000000</td>\n      <td>2388.0</td>\n      <td>100.0</td>\n      <td>38.140000</td>\n      <td>22.894200</td>\n    </tr>\n    <tr>\n      <th>25%</th>\n      <td>26.000000</td>\n      <td>52.000000</td>\n      <td>-0.001500</td>\n      <td>-0.000200</td>\n      <td>100.0</td>\n      <td>518.67</td>\n      <td>642.325000</td>\n      <td>1586.260000</td>\n      <td>1402.360000</td>\n      <td>1.462000e+01</td>\n      <td>...</td>\n      <td>520.960000</td>\n      <td>2388.040000</td>\n      <td>8133.245000</td>\n      <td>8.414900</td>\n      <td>3.000000e-02</td>\n      <td>392.000000</td>\n      <td>2388.0</td>\n      <td>100.0</td>\n      <td>38.700000</td>\n      <td>23.221800</td>\n    </tr>\n    <tr>\n      <th>50%</th>\n      <td>52.000000</td>\n      <td>104.000000</td>\n      <td>0.000000</td>\n      <td>0.000000</td>\n      <td>100.0</td>\n      <td>518.67</td>\n      <td>642.640000</td>\n      <td>1590.100000</td>\n      <td>1408.040000</td>\n      <td>1.462000e+01</td>\n      <td>...</td>\n      <td>521.480000</td>\n      <td>2388.090000</td>\n      <td>8140.540000</td>\n      <td>8.438900</td>\n      <td>3.000000e-02</td>\n      <td>393.000000</td>\n      <td>2388.0</td>\n      <td>100.0</td>\n      <td>38.830000</td>\n      <td>23.297900</td>\n    </tr>\n    <tr>\n      <th>75%</th>\n      <td>77.000000</td>\n      <td>156.000000</td>\n      <td>0.001500</td>\n      <td>0.000300</td>\n      <td>100.0</td>\n      <td>518.67</td>\n      <td>643.000000</td>\n      <td>1594.380000</td>\n      <td>1414.555000</td>\n      <td>1.462000e+01</td>\n      <td>...</td>\n      <td>521.950000</td>\n      <td>2388.140000</td>\n      <td>8148.310000</td>\n      <td>8.465600</td>\n      <td>3.000000e-02</td>\n      <td>394.000000</td>\n      <td>2388.0</td>\n      <td>100.0</td>\n      <td>38.950000</td>\n      <td>23.366800</td>\n    </tr>\n    <tr>\n      <th>max</th>\n      <td>100.000000</td>\n      <td>362.000000</td>\n      <td>0.008700</td>\n      <td>0.000600</td>\n      <td>100.0</td>\n      <td>518.67</td>\n      <td>644.530000</td>\n      <td>1616.910000</td>\n      <td>1441.490000</td>\n      <td>1.462000e+01</td>\n      <td>...</td>\n      <td>523.380000</td>\n      <td>2388.560000</td>\n      <td>8293.720000</td>\n      <td>8.584800</td>\n      <td>3.000000e-02</td>\n      <td>400.000000</td>\n      <td>2388.0</td>\n      <td>100.0</td>\n      <td>39.430000</td>\n      <td>23.618400</td>\n    </tr>\n  </tbody>\n</table>\n<p>8 rows × 26 columns</p>\n</div>"
     },
     "metadata": {},
     "execution_count": 10
    }
   ],
   "source": [
    "train_FD001.describe()"
   ]
  },
  {
   "cell_type": "code",
   "execution_count": null,
   "metadata": {},
   "outputs": [],
   "source": []
  }
 ],
 "metadata": {
  "kernelspec": {
   "display_name": "Python 3",
   "language": "python",
   "name": "python3"
  },
  "language_info": {
   "codemirror_mode": {
    "name": "ipython",
    "version": 3
   },
   "file_extension": ".py",
   "mimetype": "text/x-python",
   "name": "python",
   "nbconvert_exporter": "python",
   "pygments_lexer": "ipython3",
   "version": "3.8.5-final"
  }
 },
 "nbformat": 4,
 "nbformat_minor": 4
}